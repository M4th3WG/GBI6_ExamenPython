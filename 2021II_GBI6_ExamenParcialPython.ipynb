{
 "cells": [
  {
   "cell_type": "markdown",
   "metadata": {},
   "source": [
    "<img src=\"https://www.ikiam.edu.ec/img/logo-ikiam-grey.png\" width=300 height=240 />\n",
    "\n",
    "# EXAMEN PARCIAL PYTHON\n",
    "    \n",
    "\n",
    "## GBI6-2021II: BIOINFORMÁTICA\n",
    "\n",
    "**Apellidos, Nombres** <--- CAMBIE POR LOS QUE CORRESPONDA A SUS DATOS\n",
    "\n",
    "**18-02-2021**"
   ]
  },
  {
   "cell_type": "markdown",
   "metadata": {},
   "source": [
    "<font color='red'>NO AGREGUE NUEVAS CELDAS, UTILICE ÚNICAMENTE LAS QUE ESTÁN CREADAS</font>\n"
   ]
  },
  {
   "cell_type": "markdown",
   "metadata": {},
   "source": [
    "### REQUERIMIENTOS PARA EL EXAMEN\n",
    "Para este examen se requiere dos documentos: \n",
    "\n",
    "1. Archivo ```miningscience.py``` donde tendrá dos funciones:\n",
    "\n",
    "2. Archivo ```2021II_GBI6_ExamenParcialPython``` donde se llamará las funciones y se obtendrá resultados."
   ]
  },
  {
   "cell_type": "markdown",
   "metadata": {},
   "source": [
    "## Ejercicio 1 [2 puntos]\n",
    "Cree el archivo ```miningscience.py``` con las siguientes dos funciones:\n",
    "    \n",
    "i. ```download_pubmed```: para descargar la data de PubMed utilizando el **ENTREZ** de Biopython. El parámetro de entrada para la función es el ```keyword```. \n",
    "    \n",
    "ii. ```mining_pubs```: esta función debe utilizar el módulo **re** y utilizar el párametro ```tipo``` para realizar lo siguiente:\n",
    "        \n",
    "* Si el tipo es \"DP\" recupera el año de publicación del artículo. El retorno es un *dataframe* con el **PMID** y el **DP_year**.\n",
    "      \n",
    "* Si el tipo es \"AU\" recupera el número de autores por **PMID**. El retorno es un *dataframe* con el **PMID** y el **num_auth**. \n",
    "      \n",
    "* Si el tipo es \"AD\" recupera el conteo de autores por país. El retorno es un *dataframe* con el **country** y el **num_auth**. \n",
    "\n",
    "* *Puede utilizar un ```if``` dentro de la función.* \n",
    "\n",
    "* *Cree un docstring para cada función.* \n",
    "\n",
    "Luego de crear las funciones, cargue el módulo ```miningscience``` como ```msc``` e imprima docstring de cada función.\n",
    "\n",
    "\n"
   ]
  },
  {
   "cell_type": "code",
   "execution_count": 25,
   "metadata": {},
   "outputs": [
    {
     "name": "stdout",
     "output_type": "stream",
     "text": [
      "Help on function download_pubmed in module miningscience:\n",
      "\n",
      "download_pubmed(keyword)\n",
      "\n",
      "Help on function mining_pubs in module miningscience:\n",
      "\n",
      "mining_pubs(tipo, archivo)\n",
      "\n"
     ]
    }
   ],
   "source": [
    "import miningscience as msc\n",
    "\n",
    "help(msc.download_pubmed)\n",
    "help(msc.mining_pubs)\n"
   ]
  },
  {
   "cell_type": "markdown",
   "metadata": {},
   "source": [
    "\n",
    "## Ejercicio 2 [1 punto]\n",
    "\n",
    "\n",
    "Utilice la función ```download_pubmed``` para descargar la data con el keyword ```Ecuador genomics``` e imprima lo siguiente: \n",
    "\n",
    "```python\n",
    "'El número de artículos es: xx' # xx corresponde al número de artículos recuperados\n",
    "\n",
    "'El PMID del primer artículo es: xxxxxxxx' # xxxxxxxx corresponde al ID del artículo en PUDMED\n",
    "\n",
    "```"
   ]
  },
  {
   "cell_type": "code",
   "execution_count": 26,
   "metadata": {},
   "outputs": [
    {
     "name": "stdout",
     "output_type": "stream",
     "text": [
      "# Articulos:  193\n",
      "El PMID primer artículo:  PMID- 35121084\n",
      "\n"
     ]
    }
   ],
   "source": [
    "import miningscience\n",
    "import re\n",
    "listst=miningscience.download_pubmed('Ecuador genomics')\n",
    "p=re.findall(r'[DIMP]{4}\\-.*\\d\\n',listst)\n",
    "print ('# Articulos: ', len(p))\n",
    "print ('El PMID primer artículo: ',p[0])"
   ]
  },
  {
   "cell_type": "markdown",
   "metadata": {},
   "source": [
    "## Ejercicio 3 [1 punto]\n",
    "\n",
    "Utilice la función ```mining_pubs``` para crear los siguientes dataframes: \n",
    "\n",
    "* pub_year\n",
    "\n",
    "* pub_authors\n",
    "\n",
    "* coutries\n",
    "\n",
    "Muestre los dos primeros y los dos últimos registros de cada dataframe. "
   ]
  },
  {
   "cell_type": "code",
   "execution_count": 29,
   "metadata": {},
   "outputs": [
    {
     "name": "stdout",
     "output_type": "stream",
     "text": [
      "DataFrames de pub_year\n",
      "        PMID DP_year\n",
      "0   35121084    2022\n",
      "1   35120121    2022\n",
      "          PMID DP_year\n",
      "191   17187350    2007\n",
      "192    8661097    1996\n",
      " \n",
      "DataFrames de pub_authors\n",
      "        PMID  num_auth\n",
      "0   35121084        12\n",
      "1   35120121        14\n",
      "          PMID  num_auth\n",
      "191   17187350         1\n",
      "192    8661097         9\n",
      " \n",
      "DataFrames de countries\n",
      "                 Country  num_auth\n",
      "0                Andorra         1\n",
      "1  United Arab Emirates          6\n",
      "         Country  num_auth\n",
      "88         Samoa         1\n",
      "89  South Africa        29\n"
     ]
    }
   ],
   "source": [
    "print ('DataFrames de pub_year')\n",
    "dataframes=msc.mining_pubs('DP',listst)\n",
    "print(dataframes.head(2))\n",
    "print(dataframes.tail(2))\n",
    "print (' ')\n",
    "print ('DataFrames de pub_authors')\n",
    "autores=msc.mining_pubs('AU',listst)\n",
    "print(autores.head(2))\n",
    "print(autores.tail(2))\n",
    "print (' ')\n",
    "print ('DataFrames de countries')\n",
    "couentries=msc.mining_pubs('AD',listst)\n",
    "print(couentries.head(2))\n",
    "print(couentries.tail(2))"
   ]
  },
  {
   "cell_type": "markdown",
   "metadata": {
    "jp-MarkdownHeadingCollapsed": true,
    "tags": []
   },
   "source": [
    "## Ejercicio 4 [2 puntos]\n",
    "\n",
    "Realice la visualización de los datos del ejercicio 3. \n",
    "\n",
    "* ```pubyear```: utilizando el conteo artículos por año, calcule la media y la desviación estandar (asumiendo que la distribución es normal). Realice un gráfico de la distribución normal de sus datos. Coloque el título, leyenda de los ejes \"x\" e \"y\", y la leyenda de la curva (utilice las expresiones matemáticas tipos latex de ser necesario). \n",
    "\n",
    "* ```pub_authors```: realice un boxplot del conteo de autores por artículo. Coloque las leyendas adecuadas para cada eje y el título.  \n",
    "\n",
    "* ```countries```: realice una nube de puntos (adaptación de su tarea), resalte al menos 3 países con flechas. Coloque las leyendas adecuadas para cada eje y el título. \n"
   ]
  },
  {
   "cell_type": "code",
   "execution_count": 30,
   "metadata": {},
   "outputs": [
    {
     "name": "stdout",
     "output_type": "stream",
     "text": [
      "Distribucion normal\n",
      "Articulos: [22, 1, 8, 36, 15, 14, 1, 40, 1, 2, 6, 1, 21, 23, 1, 1]\n",
      "Prom:  12.0625\n",
      "DvE:  12.631650476085854\n"
     ]
    },
    {
     "data": {
      "image/png": "[encoded data removed]",
      "text/plain": [
       "<Figure size 432x288 with 1 Axes>"
      ]
     },
     "metadata": {
      "needs_background": "light"
     },
     "output_type": "display_data"
    },
    {
     "name": "stdout",
     "output_type": "stream",
     "text": [
      "BOXPLOT\n"
     ]
    },
    {
     "data": {
      "image/png": "[encoded data removed]",
      "text/plain": [
       "<Figure size 648x432 with 1 Axes>"
      ]
     },
     "metadata": {
      "needs_background": "light"
     },
     "output_type": "display_data"
    },
    {
     "name": "stdout",
     "output_type": "stream",
     "text": [
      "Nube de puntos\n"
     ]
    }
   ],
   "source": [
    "import pandas as pd\n",
    "import numpy as np\n",
    "import scipy.stats as stats\n",
    "import matplotlib.pyplot as plt\n",
    "import csv as csv\n",
    "\n",
    "print ('Distribucion normal')\n",
    "i = dataframes.iloc[:,1]\n",
    "s = pd.Series(i)\n",
    "h = list(set(s))\n",
    "g=s\n",
    "f=h\n",
    "h=[0]*len(f)\n",
    "k=0\n",
    "for elem in f:\n",
    "    d=0\n",
    "    for comp in g:\n",
    "        if elem == str(comp):\n",
    "            d=d+1\n",
    "    h[k]=d\n",
    "    k=k+1\n",
    "print ('Articulos:',h)\n",
    "mean = np.average(h)\n",
    "print ('Prom: ',mean)\n",
    "stan = np.std(h)\n",
    "print ('DvE: ',stan)\n",
    "x = np.linspace(mean - 3*stan, mean + 3*stan, 100)\n",
    "sigma = stan\n",
    "label = '$\\mu = %.1f, \\ \\sigma^2=%.1f$' %(mean, stan)\n",
    "y_norm = stats.norm.pdf(x, mean, sigma)\n",
    "plt.plot(x, y_norm, label=label, c = 'lightseagreen')\n",
    "plt.xlabel('Publicaciones')\n",
    "plt.title('Distribución')\n",
    "plt.legend()\n",
    "plt.show()\n",
    "\n",
    "print ('BOXPLOT')\n",
    "r = autores.iloc[:,1]\n",
    "d = pd.Series(r)\n",
    "d1 = d.tolist()\n",
    "d1.pop(79) \n",
    "fig = plt.figure(1, figsize=(9, 6))\n",
    "ax = fig.add_subplot(111)\n",
    "bp = ax.boxplot(d1)\n",
    "plt.xlabel('autores')\n",
    "plt.ylabel('total de Autores')\n",
    "plt.title('Boxplot')\n",
    "plt.show()\n"
   ]
  },
  {
   "cell_type": "code",
   "execution_count": 42,
   "metadata": {},
   "outputs": [
    {
     "name": "stdout",
     "output_type": "stream",
     "text": [
      "Nube de puntos\n"
     ]
    },
    {
     "data": {
      "image/png": "[encoded data removed]",
      "text/plain": [
       "<Figure size 1296x864 with 2 Axes>"
      ]
     },
     "metadata": {
      "needs_background": "light"
     },
     "output_type": "display_data"
    }
   ],
   "source": [
    "print('Nube de puntos')\n",
    "longitud = [-55.765835, -74.297333, -78.183406, 2.213749, 10.451526, -3.435973,  \n",
    "                 -3.74922, -51.92528, -95.712891, -66.58973, 8.675277, 174.885971, -80.782127, -106.346771, -83.753428, 22.93750]\n",
    "latitud = [-32.522779, 4.570868, -1.831239, 46.227638, 51.165691, 55.378051, \n",
    "                40.463667, -14.235004, 37.09024, 6.42375, 9.081999, -40.900557,8.537981,56.130366,9.748917,-30.559482] \n",
    "                 \n",
    "repet = [54, 10, 15, 18, 13, 19, 17, 4, 53, 55, 31, 34, 35,6, 11,57]\n",
    "\n",
    "import matplotlib.pyplot as plot\n",
    "%matplotlib inline\n",
    "\n",
    "plot.scatter( longitud, latitud, repet) \n",
    "plot.colorbar()\n",
    "ard = dict(arrowstyle=\"->\")\n",
    "plot.annotate(\"Uruguay\", xy= ( -55.765835, -32.522779), \n",
    "            xytext = (-55.80, -30), arrowprops = ard)\n",
    "plot.annotate(\"Ecuador\", xy = (-78.183406, -1.831239), \n",
    "             xytext = (-78,1), arrowprops = ard) \n",
    "plot.annotate(\"Venezuela\", xy= (-66.58973, 6.42375), \n",
    "            xytext = (-67.60, 3), arrowprops = ard)\n",
    "params = plot.gcf()\n",
    "plSize = params.get_size_inches()\n",
    "params.set_size_inches( (plSize[0] * 3, plSize[1] * 3) )\n",
    "plot.show()"
   ]
  },
  {
   "cell_type": "markdown",
   "metadata": {},
   "source": [
    "## Ejercicio 5 [1 punto]\n",
    "\n",
    "Interprete los resultados del **ejercicio 4**"
   ]
  },
  {
   "cell_type": "code",
   "execution_count": null,
   "metadata": {},
   "outputs": [],
   "source": []
  },
  {
   "cell_type": "markdown",
   "metadata": {},
   "source": [
    "### Escriba la respuesta del ejercicio 5\n"
   ]
  },
  {
   "cell_type": "markdown",
   "metadata": {},
   "source": [
    "## Ejercicio 6 [2 puntos]\n",
    "\n",
    "Para algún gen de interés, realice lo siguiente: \n",
    "\n",
    "1. Una búsqueda en la página del [NCBI nucleotide](https://www.ncbi.nlm.nih.gov/nucleotide/).\n",
    "\n",
    "2. Descargue el ```Accession List``` de su búsqueda.\n",
    "\n",
    "3. Cargue el ```Accession List``` en este notebook y haga una descarga de la data tipo ```genbank``` utilizando los diez primeros IDs de accesión. \n",
    "\n",
    "4. Arme un árbol filogenético para los resultados del paso 3.\n",
    "\n",
    "5. Interprete el árbol del paso 4. "
   ]
  },
  {
   "cell_type": "code",
   "execution_count": 25,
   "metadata": {},
   "outputs": [
    {
     "name": "stdout",
     "output_type": "stream",
     "text": [
      "\"C:\\Program Files (x86)\\ClustalW2\\clustalw2.exe\" -infile=Data/listasfasta.fasta\n",
      "Alignment with 10 rows and 342 columns\n",
      "--------------------------------------------...--- 6A6J_DChain\n",
      "-----------------GCAAACATCAATCACACCAAAAATCAT...--- U19688.1DRU19688\n",
      "--------------------------------------------...--- 6A6J_BChain\n",
      "--------------------------------------------...--- U19693.1DRU19693\n",
      "ATATACAGAACAAACCATCATTACACAATAACGTACCTAATTGC...--- U19690.1DRU19690\n",
      "--------------------------------------------...--- U19691.1DRU19691\n",
      "---------AGCACCCTCTATTGTGAACGCNATGCAACTTCATT...--- U19689.1DRU19689\n",
      "--------AATACAGCACTAAATAATAGTAAAAAACAAACAATA...GCT U19687.1DRU19687\n",
      "--------------------------------------------...--- U19692.1DRU19692\n",
      "------------------------------ACAAGCATTACTAA...--- U19686.1DRU19686\n",
      "      , 6A6J_DChain\n",
      "  ____|\n",
      " |    |__________________________________ U19688.1DRU19688\n",
      " |\n",
      " |              _______________ U19692.1DRU19692\n",
      " |       ______|\n",
      " |   ___|      |____________________________________________ U19686.1DRU19686\n",
      " |  |   |\n",
      " |__|   |____________________________________________ U19687.1DRU19687\n",
      " |  |\n",
      " |  |     _______________________________________ U19691.1DRU19691\n",
      "_|  |____|\n",
      " |       |_____________________________________________ U19689.1DRU19689\n",
      " |\n",
      " |          , 6A6J_BChain\n",
      " |__________|\n",
      " |          |_______________________________________ U19693.1DRU19693\n",
      " |\n",
      " |________________________________________________ U19690.1DRU19690\n",
      "\n",
      "<class 'Bio.Align.MultipleSeqAlignment'>\n",
      "6A6J_DChain\t0\n",
      "U19688.1DRU19688\t0.8157894736842105\t0\n",
      "6A6J_BChain\t0.03508771929824561\t0.8245614035087719\t0\n",
      "U19693.1DRU19693\t0.39766081871345027\t0.6900584795321638\t0.38596491228070173\t0\n",
      "U19690.1DRU19690\t0.8333333333333334\t0.5526315789473684\t0.8216374269005848\t0.6900584795321638\t0\n",
      "U19691.1DRU19691\t0.19590643274853803\t0.7777777777777778\t0.16959064327485385\t0.36257309941520466\t0.7748538011695907\t0\n",
      "U19689.1DRU19689\t0.7865497076023392\t0.6345029239766082\t0.7748538011695907\t0.6286549707602339\t0.6286549707602339\t0.6900584795321638\t0\n",
      "U19687.1DRU19687\t0.9532163742690059\t0.6842105263157895\t0.9444444444444444\t0.8391812865497076\t0.6871345029239766\t0.9064327485380117\t0.7134502923976609\t0\n",
      "U19692.1DRU19692\t0.08771929824561409\t0.804093567251462\t0.05555555555555558\t0.4005847953216374\t0.8070175438596492\t0.1549707602339181\t0.7514619883040936\t0.9444444444444444\t0\n",
      "U19686.1DRU19686\t0.8859649122807017\t0.6900584795321638\t0.8771929824561404\t0.7573099415204678\t0.7426900584795322\t0.8070175438596492\t0.6929824561403508\t0.6754385964912281\t0.8654970760233918\t0\n",
      "\t6A6J_DChain\tU19688.1DRU19688\t6A6J_BChain\tU19693.1DRU19693\tU19690.1DRU19690\tU19691.1DRU19691\tU19689.1DRU19689\tU19687.1DRU19687\tU19692.1DRU19692\tU19686.1DRU19686\n",
      "Tree(rooted=True)\n",
      "    Clade(branch_length=0, name='Inner8')\n",
      "        Clade(branch_length=0.03990771198830412, name='Inner6')\n",
      "            Clade(branch_length=0.2791788499025342, name='U19689.1DRU19689')\n",
      "            Clade(branch_length=0.20949074074074064, name='Inner4')\n",
      "                Clade(branch_length=0.1416301169590643, name='U19693.1DRU19693')\n",
      "                Clade(branch_length=0.15332602339181284, name='Inner3')\n",
      "                    Clade(branch_length=0.06000243664717353, name='U19691.1DRU19691')\n",
      "                    Clade(branch_length=0.07303849902534107, name='Inner2')\n",
      "                        Clade(branch_length=0.02829991645781116, name='U19692.1DRU19692')\n",
      "                        Clade(branch_length=0.02579365079365087, name='Inner1')\n",
      "                            Clade(branch_length=0.011147660818713434, name='6A6J_BChain')\n",
      "                            Clade(branch_length=0.023940058479532178, name='6A6J_DChain')\n",
      "        Clade(branch_length=0.03177540204678364, name='Inner7')\n",
      "            Clade(branch_length=0.28259777046783635, name='U19690.1DRU19690')\n",
      "            Clade(branch_length=0.270033808479532, name='U19688.1DRU19688')\n",
      "        Clade(branch_length=0.05521290204678364, name='Inner5')\n",
      "            Clade(branch_length=0.33232821637426907, name='U19686.1DRU19686')\n",
      "            Clade(branch_length=0.343110380116959, name='U19687.1DRU19687')\n"
     ]
    },
    {
     "data": {
      "image/png": "[encoded data removed]",
      "text/plain": [
       "<Figure size 750x1250 with 1 Axes>"
      ]
     },
     "metadata": {
      "needs_background": "light"
     },
     "output_type": "display_data"
    }
   ],
   "source": [
    "from IPython.core.display import Image\n",
    "from Bio.Seq import Seq\n",
    "from Bio.SeqUtils import GC\n",
    "\n",
    "from reportlab.lib import colors\n",
    "from reportlab.lib.units import cm\n",
    "from Bio.Graphics import GenomeDiagram\n",
    "from Bio import SeqIO\n",
    "from Bio.SeqFeature import SeqFeature, FeatureLocation\n",
    "\n",
    "# Filogenia\n",
    "from Bio import Phylo\n",
    "from Bio.Phylo.TreeConstruction import DistanceCalculator\n",
    "from Bio.Phylo.TreeConstruction import DistanceTreeConstructor\n",
    "from Bio import AlignIO\n",
    "\n",
    "# Proteómica\n",
    "from Bio.PDB import *\n",
    "from Bio.SeqUtils.ProtParam import ProteinAnalysis\n",
    "from Bio.SeqUtils.ProtParam import ProtParamData\n",
    "import nglview as nv\n",
    "import ipywidgets\n",
    "\n",
    "import warnings\n",
    "warnings.filterwarnings('ignore')\n",
    "import Bio  \n",
    "with open(\"data/sequence.seq\",\"r\") as archivo:\n",
    "     listas = [\"6A6J_D\", \"6A6J_B\", \"U19693.1\", \"U19692.1\", \"U19691.1\", \"U19690.1\", \"U19689.1\", \"U19688.1\", \"U19687.1\", \"U19686.1\"]      \n",
    "from Bio import Entrez\n",
    "Entrez.email = \"sebasgaibor@hotmail.com\"\n",
    "ofile = open(\"data/listasgb.gb\", \"w\")\n",
    "with Entrez.efetch( db=\"nucleotide\", rettype=\"gb\", retmode=\"text\", id= listas\n",
    "                  ) as handle: \n",
    "    for seq_record in SeqIO.parse(handle, \"gb\"):\n",
    "        ofile.write(\">\"+str(seq_record.id)+str(seq_record.description[:50])+'\\n')\n",
    "        ofile.write(str(seq_record.seq)+'\\n')\n",
    "        ofile.write('\\n')\n",
    "DatosFast=open('data/listasfasta.fasta','w')\n",
    "with open(\"data/listasgb.gb\",'r') as genbank: \n",
    "    a=genbank.read()\n",
    "    for line in a:\n",
    "        DatosFast.write(str(line))\n",
    "from Bio import SeqIO\n",
    "from Bio import AlignIO\n",
    "from Bio import Phylo\n",
    "from Bio.Align.Applications import ClustalwCommandline\n",
    "import os\n",
    "clustalw_exe = r\"C:\\Program Files (x86)\\ClustalW2\\clustalw2.exe\"\n",
    "clustalw_cline = ClustalwCommandline(clustalw_exe, infile = \"Data/listasfasta.fasta\")\n",
    "assert os.path.isfile(clustalw_exe), \"Clustal_W executable is missing or not found\"\n",
    "stdout, stderr = clustalw_cline()\n",
    "print(clustalw_cline)\n",
    "ClustalAlign = AlignIO.read(\"data/listasfasta.aln\", \"clustal\")\n",
    "print(ClustalAlign)\n",
    "# Generar Dendogram (Tree)\n",
    "from Bio import Phylo\n",
    "tree = Phylo.read(\"data/listasfasta.dnd\", \"newick\")\n",
    "Phylo.draw_ascii(tree)\n",
    "# cargar alineamiento \n",
    "with open(\"data/listasfasta.aln\",\"r\") as aln: \n",
    "    alignment = AlignIO.read(aln,\"clustal\")\n",
    "print(type(alignment))\n",
    "# Inicializar la calculadora de Distancias y del modelo \n",
    "from Bio.Phylo.TreeConstruction import DistanceCalculator \n",
    "calculator = DistanceCalculator('identity')\n",
    "# Matriz de Distancias \n",
    "distance_matrix = calculator.get_distance(alignment)\n",
    "print(distance_matrix)\n",
    "# Inicializar el constructor del arbol ( Tree Constructor )\n",
    "from Bio.Phylo.TreeConstruction import DistanceTreeConstructor\n",
    "constructor = DistanceTreeConstructor(calculator)\n",
    "# Construir el arbol \n",
    "arbolito= constructor.build_tree(alignment)\n",
    "arbolito.rooted = True\n",
    "print(arbolito)\n",
    "# Guardar el arbol \n",
    "Phylo.write(arbolito, \"data/arbolito.xml\", \"phyloxml\")\n",
    "arbolito = Phylo.read(file=\"data/arbolito.xml\", format= \"phyloxml\")\n",
    "\n",
    "# Arbol elemental en Matplotlib\n",
    "import matplotlib\n",
    "import matplotlib.pyplot as plt\n",
    "\n",
    "# Make a better looking tree using the features of matplotlib \n",
    "\n",
    "fig = plt.figure(figsize=(15, 25), dpi=50) # create figure & set the size \n",
    "matplotlib.rc('font', size=12)              # fontsize of the leaf and node labels \n",
    "matplotlib.rc('xtick', labelsize=10)       # fontsize of the tick labels\n",
    "matplotlib.rc('ytick', labelsize=10)       # fontsize of the tick labels\n",
    "axes = fig.add_subplot(1, 1, 1)\n",
    "Phylo.draw(arbolito, axes=axes)\n",
    "fig.savefig(\"data/arbolitoclando\")"
   ]
  },
  {
   "cell_type": "markdown",
   "metadata": {},
   "source": [
    "**Escriba aquí la interpretación del árbol**"
   ]
  },
  {
   "cell_type": "markdown",
   "metadata": {},
   "source": [
    "## Ejercicio 7 [1 punto]\n",
    "\n",
    "\n",
    "1. Cree en GitHub un repositorio de nombre ```GBI6_ExamenPython```. \n",
    "2. Cree un archivo ```Readme.md``` que debe tener lo siguiente: \n",
    "- Datos personales\n",
    "- Características del computador\n",
    "- Versión de Python/Anaconda y de cada uno de los módulos/paquetes y utilizados\n",
    "- Explicación de la data utilizada\n",
    "\n",
    "3. Cree un directorio de nombre ```data``` donde deben estar guardado la data utilizada \n",
    "4. Realice al menos 1 control de la versión (commits) por cada ejercicio (del 1 al 6), con un mensaje que inicie como: \n",
    "\n",
    "```sh \n",
    "Carlitos Alimaña ha realizado .....  \n",
    "```"
   ]
  }
 ],
 "metadata": {
  "kernelspec": {
   "display_name": "Python 3",
   "language": "python",
   "name": "python3"
  },
  "language_info": {
   "codemirror_mode": {
    "name": "ipython",
    "version": 3
   },
   "file_extension": ".py",
   "mimetype": "text/x-python",
   "name": "python",
   "nbconvert_exporter": "python",
   "pygments_lexer": "ipython3",
   "version": "3.8.8"
  },
  "latex_envs": {
   "LaTeX_envs_menu_present": true,
   "autoclose": false,
   "autocomplete": true,
   "bibliofile": "biblio.bib",
   "cite_by": "apalike",
   "current_citInitial": 1,
   "eqLabelWithNumbers": true,
   "eqNumInitial": 1,
   "hotkeys": {
    "equation": "Ctrl-E",
    "itemize": "Ctrl-I"
   },
   "labels_anchors": false,
   "latex_user_defs": false,
   "report_style_numbering": false,
   "user_envs_cfg": false
  },
  "toc": {
   "base_numbering": 1,
   "nav_menu": {},
   "number_sections": true,
   "sideBar": false,
   "skip_h1_title": false,
   "title_cell": "Table of Contents",
   "title_sidebar": "Contents",
   "toc_cell": false,
   "toc_position": {
    "height": "1152.67px",
    "left": "41px",
    "top": "110px",
    "width": "253.458px"
   },
   "toc_section_display": true,
   "toc_window_display": false
  },
  "varInspector": {
   "cols": {
    "lenName": 16,
    "lenType": 16,
    "lenVar": 40
   },
   "kernels_config": {
    "python": {
     "delete_cmd_postfix": "",
     "delete_cmd_prefix": "del ",
     "library": "var_list.py",
     "varRefreshCmd": "print(var_dic_list())"
    },
    "r": {
     "delete_cmd_postfix": ") ",
     "delete_cmd_prefix": "rm(",
     "library": "var_list.r",
     "varRefreshCmd": "cat(var_dic_list()) "
    }
   },
   "types_to_exclude": [
    "module",
    "function",
    "builtin_function_or_method",
    "instance",
    "_Feature"
   ],
   "window_display": false
  }
 },
 "nbformat": 4,
 "nbformat_minor": 4
}
